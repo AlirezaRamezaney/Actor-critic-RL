{
 "cells": [
  {
   "cell_type": "code",
   "execution_count": 2,
   "metadata": {},
   "outputs": [
    {
     "ename": "ModuleNotFoundError",
     "evalue": "No module named 'networks'",
     "output_type": "error",
     "traceback": [
      "\u001b[1;31m---------------------------------------------------------------------------\u001b[0m",
      "\u001b[1;31mModuleNotFoundError\u001b[0m                       Traceback (most recent call last)",
      "\u001b[1;32m<ipython-input-2-684b80e3633c>\u001b[0m in \u001b[0;36m<module>\u001b[1;34m\u001b[0m\n\u001b[0;32m      2\u001b[0m \u001b[1;32mfrom\u001b[0m \u001b[0mtensorflow\u001b[0m\u001b[1;33m.\u001b[0m\u001b[0mkeras\u001b[0m\u001b[1;33m.\u001b[0m\u001b[0moptimizers\u001b[0m \u001b[1;32mimport\u001b[0m \u001b[0mAdam\u001b[0m\u001b[1;33m\u001b[0m\u001b[1;33m\u001b[0m\u001b[0m\n\u001b[0;32m      3\u001b[0m \u001b[1;32mimport\u001b[0m \u001b[0mtensorflow_probability\u001b[0m \u001b[1;32mas\u001b[0m \u001b[0mtfp\u001b[0m\u001b[1;33m\u001b[0m\u001b[1;33m\u001b[0m\u001b[0m\n\u001b[1;32m----> 4\u001b[1;33m \u001b[1;32mfrom\u001b[0m \u001b[0mnetworks\u001b[0m \u001b[1;32mimport\u001b[0m \u001b[0mActorCriticNetwork\u001b[0m\u001b[1;33m\u001b[0m\u001b[1;33m\u001b[0m\u001b[0m\n\u001b[0m\u001b[0;32m      5\u001b[0m \u001b[1;33m\u001b[0m\u001b[0m\n\u001b[0;32m      6\u001b[0m \u001b[1;32mclass\u001b[0m \u001b[0mAgent\u001b[0m\u001b[1;33m:\u001b[0m\u001b[1;33m\u001b[0m\u001b[1;33m\u001b[0m\u001b[0m\n",
      "\u001b[1;31mModuleNotFoundError\u001b[0m: No module named 'networks'"
     ]
    }
   ],
   "source": [
    "import tensorflow as tf\n",
    "from tensorflow.keras.optimizers import Adam\n",
    "import tensorflow_probability as tfp\n",
    "from networks import ActorCriticNetwork\n",
    "\n",
    "class Agent:\n",
    "    def __init__(self, alpha=0.0003, gamma=0.99, n_actions=2):\n",
    "        self.gamma = gamma\n",
    "        self.n_actions = n_actions\n",
    "        self.action = None\n",
    "        self.action_space = [i for i in range(self.n_actions)]\n",
    "\n",
    "        self.actor_critic = ActorCriticNetwork(n_actions=n_actions)\n",
    "\n",
    "        self.actor_critic.compile(optimizer=Adam(learning_rate=alpha))\n",
    "\n",
    "\n",
    "    def choose_action(self, observation):\n",
    "        state = tf.convert_to_tensor([observation])\n",
    "        _, probs = self.actor_critic(state)\n",
    "\n",
    "        action_probabilities = tfp.distributions.Categorical(probs=probs)\n",
    "        action = action_probabilities.sample()\n",
    "        log_prob = action_probabilities.log_prob(action)\n",
    "        self.action = action\n",
    "\n",
    "        return action.numpy()[0]\n",
    "\n",
    "    def save_models(self):\n",
    "        print('... saving models ...')\n",
    "        self.actor_critic.save_weights(self.actor_critic.checkpoint_file)\n",
    "\n",
    "    def load_models(self):\n",
    "        print('... loading models ...')\n",
    "        self.actor_critic.load_weights(self.actor_critic.checkpoint_file)\n",
    "        \n",
    "    def learn(self, state, reward, state_, done):\n",
    "        state = tf.convert_to_tensor([state], dtype=tf.float32)\n",
    "        state_ = tf.convert_to_tensor([state_], dtype=tf.float32)\n",
    "        reward = tf.convert_to_tensor(reward, dtype=tf.float32) # not fed to NN\n",
    "        with tf.GradientTape(persistent=True) as tape:\n",
    "            state_value, probs = self.actor_critic(state)\n",
    "            state_value_, _ = self.actor_critic(state_)\n",
    "            state_value = tf.squeeze(state_value)\n",
    "            state_value_ = tf.squeeze(state_value_)\n",
    "\n",
    "            action_probs = tfp.distributions.Categorical(probs=probs)\n",
    "            log_prob = action_probs.log_prob(self.action)\n",
    "\n",
    "            delta = reward + self.gamma*state_value_*(1-int(done)) - state_value\n",
    "            actor_loss = -log_prob*delta\n",
    "            critic_loss = delta**2\n",
    "            total_loss = actor_loss + critic_loss\n",
    "\n",
    "        gradient = tape.gradient(total_loss, self.actor_critic.trainable_variables)\n",
    "        self.actor_critic.optimizer.apply_gradients(zip(\n",
    "            gradient, self.actor_critic.trainable_variables))"
   ]
  },
  {
   "cell_type": "code",
   "execution_count": null,
   "metadata": {},
   "outputs": [],
   "source": []
  }
 ],
 "metadata": {
  "kernelspec": {
   "display_name": "Python 3",
   "language": "python",
   "name": "python3"
  },
  "language_info": {
   "codemirror_mode": {
    "name": "ipython",
    "version": 3
   },
   "file_extension": ".py",
   "mimetype": "text/x-python",
   "name": "python",
   "nbconvert_exporter": "python",
   "pygments_lexer": "ipython3",
   "version": "3.8.5"
  }
 },
 "nbformat": 4,
 "nbformat_minor": 4
}
